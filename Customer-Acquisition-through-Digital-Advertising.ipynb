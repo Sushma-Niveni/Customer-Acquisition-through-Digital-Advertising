{
 "cells": [
  {
   "cell_type": "markdown",
   "id": "92531dcb",
   "metadata": {},
   "source": [
    "# Big Data Analytics - Homework - 1\n",
    "  #Sushma Niveni Pindiga\n",
    "    \n",
    "    \n",
    "    \n",
    "#Exercise 1: Game Fun: Customer Acquisition through Digital Advertising\n",
    "\n",
    "\n"
   ]
  },
  {
   "cell_type": "code",
   "execution_count": 1,
   "id": "01258128",
   "metadata": {},
   "outputs": [
    {
     "name": "stdout",
     "output_type": "stream",
     "text": [
      "Mean Values:\n",
      "          income    gender     gamer\n",
      "test                               \n",
      "0     55.166012  0.647905  0.601823\n",
      "1     54.938236  0.647289  0.601331\n",
      "\n",
      "Percentage Difference:\n",
      " income   -0.412890\n",
      "gender   -0.095049\n",
      "gamer    -0.081720\n",
      "Name: 1, dtype: float64\n",
      "\n",
      "P-Value for income: 0.1284 - Income differences are not statistically significant.\n",
      "\n",
      "P-Value for gender: 0.9060 - Gender differences are not statistically significant.\n",
      "\n",
      "P-Value for gamer: 0.9267 - Gamer differences are not statistically significant.\n"
     ]
    }
   ],
   "source": [
    "import pandas as pd\n",
    "from scipy.stats import ttest_ind\n",
    "\n",
    "# Load the data\n",
    "data = pd.read_excel(\"GameFun.xlsx\")\n",
    "\n",
    "# Split the dataset into test and control groups\n",
    "groups = data.groupby('test')\n",
    "\n",
    "# Calculate mean values for selected columns\n",
    "means = groups[['income', 'gender', 'gamer']].mean()\n",
    "\n",
    "# Calculate the percentage difference in means\n",
    "percentage_difference = (means.diff() / means.iloc[0]) * 100\n",
    "\n",
    "# Conduct t-tests for selected variables and collect results\n",
    "variables = ['income', 'gender', 'gamer']\n",
    "ttest_results = {var: ttest_ind(data[data['test'] == 1][var], data[data['test'] == 0][var]) for var in variables}\n",
    "\n",
    "# Print mean values and percentage differences\n",
    "print(\"Mean Values:\\n\", means)\n",
    "print(\"\\nPercentage Difference:\\n\", percentage_difference.iloc[1])\n",
    "\n",
    "# Check if the p-values indicate statistical significance and print results\n",
    "for var, result in ttest_results.items():\n",
    "    significance = \"statistically significant\" if result.pvalue < 0.05 else \"not statistically significant\"\n",
    "    print(f\"\\nP-Value for {var}: {result.pvalue:.4f} - {var.capitalize()} differences are {significance}.\")\n",
    "\n"
   ]
  },
  {
   "cell_type": "code",
   "execution_count": 17,
   "id": "138a4b39",
   "metadata": {},
   "outputs": [
    {
     "name": "stdout",
     "output_type": "stream",
     "text": [
      "   Expected Revenue\n",
      "0          2.426151\n"
     ]
    }
   ],
   "source": [
    "def calculate_expected_revenue(data, revenue_per_purchase=37.5, group_by=None):\n",
    "    # Assuming calculate_purchase_rates is a function that returns a DataFrame\n",
    "    # with purchase rates for the specified groups or overall.\n",
    "    purchase_rates = calculate_purchase_rates(data, group_by=group_by)\n",
    "    \n",
    "    if group_by:\n",
    "        # If data is grouped, calculate expected revenue for each group.\n",
    "        purchase_rates['Expected Revenue Test'] = purchase_rates[1] * revenue_per_purchase\n",
    "        purchase_rates['Expected Revenue Control'] = purchase_rates[0] * revenue_per_purchase\n",
    "    else:\n",
    "        # For ungrouped data, calculate a single expected revenue value.\n",
    "        purchase_rates['Expected Revenue'] = purchase_rates['Average Purchase Rate'] * revenue_per_purchase\n",
    "        purchase_rates.drop('Average Purchase Rate', axis=1, inplace=True)\n",
    "    \n",
    "    return purchase_rates\n",
    "\n",
    "# a. All customers\n",
    "expected_revenue_all = calculate_expected_revenue(data)\n",
    "print(expected_revenue_all)\n"
   ]
  },
  {
   "cell_type": "code",
   "execution_count": 10,
   "id": "660bf0f3",
   "metadata": {},
   "outputs": [
    {
     "name": "stdout",
     "output_type": "stream",
     "text": [
      "Index(['id', 'test', 'purchase', 'site', 'impressions', 'income', 'gender',\n",
      "       'gamer'],\n",
      "      dtype='object')\n"
     ]
    }
   ],
   "source": [
    "print(data.columns)\n"
   ]
  },
  {
   "cell_type": "code",
   "execution_count": 23,
   "id": "f4c970f3",
   "metadata": {},
   "outputs": [],
   "source": [
    "def calculate_purchase_rates(data, group_by=None):\n",
    "    if group_by:\n",
    "        # Group by specified column and calculate the mean purchase rate\n",
    "        purchase_rate = data.groupby(group_by).apply(lambda x: x['purchase'].mean())\n",
    "        return pd.DataFrame({\n",
    "            group_by: purchase_rate.index,\n",
    "            'Test Purchase Rate': purchase_rate, \n",
    "            'Control Purchase Rate': purchase_rate \n",
    "        }).reset_index(drop=True)\n",
    "    else:\n",
    "        # Calculate the average purchase rate for the entire dataset\n",
    "        average_purchase_rate = data['purchase'].mean()\n",
    "        return pd.DataFrame({\n",
    "            'Average Purchase Rate': [average_purchase_rate]\n",
    "        })\n"
   ]
  },
  {
   "cell_type": "code",
   "execution_count": 24,
   "id": "778ca6e8",
   "metadata": {},
   "outputs": [],
   "source": [
    "def calculate_expected_revenue(data, revenue_per_purchase=37.5, group_by=None):\n",
    "    purchase_rates = calculate_purchase_rates(data, group_by=group_by)\n",
    "    \n",
    "    if group_by:\n",
    "        # Adjusted to calculate expected revenue correctly for grouped data\n",
    "        purchase_rates['Expected Revenue Test'] = purchase_rates['Test Purchase Rate'] * revenue_per_purchase\n",
    "        purchase_rates['Expected Revenue Control'] = purchase_rates['Control Purchase Rate'] * revenue_per_purchase\n",
    "    else:\n",
    "        # For ungrouped data, calculate a single expected revenue value\n",
    "        purchase_rates['Expected Revenue'] = purchase_rates['Average Purchase Rate'] * revenue_per_purchase\n",
    "    return purchase_rates\n"
   ]
  },
  {
   "cell_type": "code",
   "execution_count": 29,
   "id": "62ea3bc2",
   "metadata": {},
   "outputs": [
    {
     "name": "stdout",
     "output_type": "stream",
     "text": [
      "   Average Purchase Rate  Expected Revenue\n",
      "0               0.064697          2.426151\n"
     ]
    }
   ],
   "source": [
    "# Assuming 'gamer' is a column in 'data' where 1 indicates a gamer\n",
    "data_gamers = data[data['gamer'] == 1]\n",
    "\n",
    "\n",
    "#1.\n",
    "# Calculate expected revenue for all customers\n",
    "expected_revenue_all = calculate_expected_revenue(data)\n",
    "print(expected_revenue_all)"
   ]
  },
  {
   "cell_type": "code",
   "execution_count": 28,
   "id": "7bc8b893",
   "metadata": {},
   "outputs": [
    {
     "name": "stdout",
     "output_type": "stream",
     "text": [
      "   gender  Test Purchase Rate  Control Purchase Rate  Expected Revenue Test  \\\n",
      "0       0            0.086941               0.086941               3.260296   \n",
      "1       1            0.082172               0.082172               3.081433   \n",
      "\n",
      "   Expected Revenue Control  \n",
      "0                  3.260296  \n",
      "1                  3.081433  \n"
     ]
    }
   ],
   "source": [
    "#2.\n",
    "# Calculate expected revenue for female and male gamers, assuming 'gender' is the correct grouping column\n",
    "expected_revenue_female_male_gamers = calculate_expected_revenue(data_gamers, group_by='gender')\n",
    "print(expected_revenue_female_male_gamers)"
   ]
  },
  {
   "cell_type": "code",
   "execution_count": 33,
   "id": "d910196d",
   "metadata": {},
   "outputs": [],
   "source": [
    "import pandas as pd\n",
    "\n",
    "def calculate_purchase_rates_optimized(data, group_by=None):\n",
    "    if group_by:\n",
    "        # Group by specified columns, calculate the mean purchase rate, and calculate the absolute difference\n",
    "        grouped_data = data.groupby(group_by)['purchase'].mean().unstack()\n",
    "        grouped_data['Absolute Difference'] = (grouped_data[1] - grouped_data[0]).abs()\n",
    "        results = grouped_data\n",
    "    else:\n",
    "        # For ungrouped data, calculate the average purchase rate and the absolute difference\n",
    "        test_group_means = data.groupby('test')['purchase'].mean()\n",
    "        absolute_difference = abs(test_group_means[1] - test_group_means[0])\n",
    "        results = pd.DataFrame(test_group_means, columns=['Average Purchase Rate'])\n",
    "        results.loc['Absolute Difference', 'Average Purchase Rate'] = absolute_difference\n",
    "    return results\n",
    "\n",
    "\n"
   ]
  },
  {
   "cell_type": "code",
   "execution_count": 32,
   "id": "17955973",
   "metadata": {},
   "outputs": [
    {
     "data": {
      "text/plain": [
       "(                    Average Purchase Rate\n",
       " Absolute Difference              0.040609,\n",
       " test           0         1  Absolute Difference\n",
       " gender                                         \n",
       " 0       0.034442  0.080945             0.046503\n",
       " 1       0.037176  0.074575             0.037399,\n",
       " test          0         1  Absolute Difference\n",
       " gamer                                         \n",
       " 0      0.037387  0.035092             0.002295\n",
       " 1      0.035436  0.104487             0.069051,\n",
       " test           0         1  Absolute Difference\n",
       " gender                                         \n",
       " 0       0.032041  0.110092             0.078051\n",
       " 1       0.037275  0.101404             0.064129)"
      ]
     },
     "execution_count": 32,
     "metadata": {},
     "output_type": "execute_result"
    }
   ],
   "source": [
    " #a. All customers\n",
    "all_customers = calculate_purchase_rates_optimized(data)\n",
    "\n",
    " #b. Male vs Female customers\n",
    "male_female = calculate_purchase_rates_optimized(data, group_by=['gender', 'test'])\n",
    "\n",
    " #c. Gamers vs Non-Gamers Customers\n",
    "\n",
    "gamers_non_gamers = calculate_purchase_rates_optimized(data, group_by=['gamer', 'test'])\n",
    "data_gamers = data[data['gamer'] == 1]\n",
    " \n",
    "    \n",
    "#d. Female Gamers vs Male Gamers\n",
    "\n",
    "female_male_gamers = calculate_purchase_rates_optimized(data_gamers, group_by=['gender', 'test'])\n",
    "\n",
    "# Outputs\n",
    "all_customers, male_female, gamers_non_gamers, female_male_gamers"
   ]
  },
  {
   "cell_type": "code",
   "execution_count": 36,
   "id": "f1d8dc65",
   "metadata": {},
   "outputs": [
    {
     "name": "stdout",
     "output_type": "stream",
     "text": [
      "Percent of babies who died (mothers offered shots): 0.38%\n",
      "Percent of babies who died (mothers not offered shots): 0.64%\n",
      "Difference in mortality: -0.26%\n"
     ]
    }
   ],
   "source": [
    "#Exercise 2: Non-Compliance in Randomized Experiments\n",
    "# Load  data\n",
    "data_sd = pd.read_csv(\"sommer_deger.csv\")\n",
    "\n",
    "# Calculate the percentages\n",
    "percent_died_offered = data_sd[data_sd['instrument'] == 1]['outcome'].mean() * 100\n",
    "percent_died_not_offered = data_sd[data_sd['instrument'] == 0]['outcome'].mean() * 100\n",
    "\n",
    "# Calculate the difference in mortality\n",
    "mortality_difference = percent_died_offered - percent_died_not_offered\n",
    "\n",
    "# Print the results\n",
    "print(f\"Percent of babies who died (mothers offered shots): {percent_died_offered:.2f}%\")\n",
    "print(f\"Percent of babies who died (mothers not offered shots): {percent_died_not_offered:.2f}%\")\n",
    "print(f\"Difference in mortality: {mortality_difference:.2f}%\")\n"
   ]
  },
  {
   "cell_type": "code",
   "execution_count": 38,
   "id": "6eee9922",
   "metadata": {},
   "outputs": [
    {
     "name": "stdout",
     "output_type": "stream",
     "text": [
      "Percent of babies who died (received shots): 0.12%\n",
      "Percent of babies who died (did not receive shots): 0.77%\n",
      "Difference in mortality: -0.65%\n"
     ]
    }
   ],
   "source": [
    "# Calculate the percentages and difference in mortality \n",
    "percent_died_received = data_sd.loc[data_sd['treatment'] == 1, 'outcome'].mean() * 100\n",
    "percent_died_not_received = data_sd.loc[data_sd['treatment'] == 0, 'outcome'].mean() * 100\n",
    "mortality_difference_received = percent_died_received - percent_died_not_received\n",
    "\n",
    "# Print the results \n",
    "print(f\"Percent of babies who died (received shots): {percent_died_received:.2f}%\")\n",
    "print(f\"Percent of babies who died (did not receive shots): {percent_died_not_received:.2f}%\")\n",
    "print(f\"Difference in mortality: {mortality_difference_received:.2f}%\")\n"
   ]
  },
  {
   "cell_type": "code",
   "execution_count": 41,
   "id": "d06dc90c",
   "metadata": {},
   "outputs": [
    {
     "name": "stdout",
     "output_type": "stream",
     "text": [
      "Percent of babies who died (received shots when offered): 0.12%\n",
      "Percent of babies who died (offered but did not receive shots): 1.41%\n",
      "Difference in mortality: -1.28%\n"
     ]
    }
   ],
   "source": [
    "# Filtering for mothers offered Vitamin A shots\n",
    "offered_subset = data_sd[data_sd['instrument'] == 1]\n",
    "\n",
    "# Calculate the percentages\n",
    "percent_died_received_offered = offered_subset[offered_subset['treatment'] == 1]['outcome'].mean() * 100\n",
    "percent_died_not_received_offered = offered_subset[offered_subset['treatment'] == 0]['outcome'].mean() * 100\n",
    "\n",
    "# Calculate the difference in mortality\n",
    "mortality_difference_offered_subset = percent_died_received_offered - percent_died_not_received_offered\n",
    "\n",
    "# Print the results\n",
    "print(f\"Percent of babies who died (received shots when offered): {percent_died_received_offered:.2f}%\")\n",
    "print(f\"Percent of babies who died (offered but did not receive shots): {percent_died_not_received_offered:.2f}%\")\n",
    "print(f\"Difference in mortality: {mortality_difference_offered_subset:.2f}%\")\n"
   ]
  },
  {
   "cell_type": "code",
   "execution_count": 40,
   "id": "4781c774",
   "metadata": {},
   "outputs": [
    {
     "name": "stdout",
     "output_type": "stream",
     "text": [
      "Wald Estimator: -0.3228\n",
      "ITT Effect: -0.2582%\n",
      "Standard Error (Offered Group): 0.0006\n",
      "Standard Error (Not Offered Group): 0.0007\n"
     ]
    }
   ],
   "source": [
    "import numpy as np\n",
    "\n",
    "# The denominator likely involves the proportion of those who actually received the treatment among those offered\n",
    "proportion_received_among_offered = data_sd[data_sd['instrument'] == 1]['treatment'].mean()\n",
    "\n",
    "wald_estimator = (percent_died_offered - percent_died_not_offered) / proportion_received_among_offered\n",
    "\n",
    "# Computing the intent-to-treat (ITT) effect for comparison\n",
    "itt_effect = percent_died_offered - percent_died_not_offered\n",
    "\n",
    "# Computing standard errors for offered and not offered groups to use in discussions of significance\n",
    "n_offered = data_sd[data_sd['instrument'] == 1]['outcome'].count()\n",
    "n_not_offered = data_sd[data_sd['instrument'] == 0]['outcome'].count()\n",
    "\n",
    "std_err_offered = data_sd[data_sd['instrument'] == 1]['outcome'].std() / np.sqrt(n_offered)\n",
    "std_err_not_offered = data_sd[data_sd['instrument'] == 0]['outcome'].std() / np.sqrt(n_not_offered)\n",
    "\n",
    "# Print the results\n",
    "print(f\"Wald Estimator: {wald_estimator:.4f}\")\n",
    "print(f\"ITT Effect: {itt_effect:.4f}%\")\n",
    "print(f\"Standard Error (Offered Group): {std_err_offered:.4f}\")\n",
    "print(f\"Standard Error (Not Offered Group): {std_err_not_offered:.4f}\")\n"
   ]
  }
 ],
 "metadata": {
  "kernelspec": {
   "display_name": "Python 3 (ipykernel)",
   "language": "python",
   "name": "python3"
  },
  "language_info": {
   "codemirror_mode": {
    "name": "ipython",
    "version": 3
   },
   "file_extension": ".py",
   "mimetype": "text/x-python",
   "name": "python",
   "nbconvert_exporter": "python",
   "pygments_lexer": "ipython3",
   "version": "3.11.5"
  }
 },
 "nbformat": 4,
 "nbformat_minor": 5
}
